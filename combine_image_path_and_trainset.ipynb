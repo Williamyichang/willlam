{
 "cells": [
  {
   "cell_type": "code",
   "execution_count": 2,
   "metadata": {},
   "outputs": [],
   "source": [
    "# combine the path,image file and bounding box  \n",
    "\n",
    "with open(\"train_1.txt\") as tr:\n",
    "    with open('image_path_1.txt') as im:\n",
    "        with open(\"trainset_1.txt\",\"w\") as ts:\n",
    "            #Read first file\n",
    "            xlines = tr.readlines()\n",
    "            #Read second file\n",
    "            ylines = im.readlines()\n",
    "            #Combine content of both lists  and Write to third file\n",
    "            for line1, line2 in zip(ylines, xlines):\n",
    "                 ts.write(\"{}{}\\n\".format(line1.rstrip(), line2.rstrip()))"
   ]
  },
  {
   "cell_type": "code",
   "execution_count": null,
   "metadata": {},
   "outputs": [],
   "source": []
  }
 ],
 "metadata": {
  "kernelspec": {
   "display_name": "tensorflow_gpu",
   "language": "python",
   "name": "tensorflow_gpu"
  },
  "language_info": {
   "codemirror_mode": {
    "name": "ipython",
    "version": 3
   },
   "file_extension": ".py",
   "mimetype": "text/x-python",
   "name": "python",
   "nbconvert_exporter": "python",
   "pygments_lexer": "ipython3",
   "version": "3.6.7"
  }
 },
 "nbformat": 4,
 "nbformat_minor": 2
}
